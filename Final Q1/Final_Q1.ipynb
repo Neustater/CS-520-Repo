{
  "cells": [
    {
      "attachments": {},
      "cell_type": "markdown",
      "metadata": {},
      "source": [
        "# Exam Q1\n",
        "Michael Neustater - mdn68"
      ]
    },
    {
      "cell_type": "code",
      "execution_count": 1,
      "metadata": {
        "id": "k2TZkIDFYNJ7"
      },
      "outputs": [],
      "source": [
        "import numpy as np\n",
        "import matplotlib.pyplot as plt\n",
        "import random\n",
        "from queue import Queue\n",
        "import heapq\n",
        "import itertools"
      ]
    },
    {
      "attachments": {},
      "cell_type": "markdown",
      "metadata": {
        "id": "Q05B4P2hE6Wm"
      },
      "source": [
        "To ensure all functions are declared, run all cells. Make sure text files are included in same dir"
      ]
    },
    {
      "cell_type": "code",
      "execution_count": 2,
      "metadata": {
        "id": "0sYFt0bDftkC"
      },
      "outputs": [],
      "source": [
        "\"\"\"Read maze from text file\"\"\"\n",
        "def read_maze(file_name):\n",
        "  text = open(file_name, \"r\")\n",
        "  maze = text.readlines()\n",
        "  for itr, x in enumerate(maze):\n",
        "    maze[itr] = maze[itr].replace('\\n','')\n",
        "    maze[itr] = list(maze[itr])\n",
        "    if len(maze[itr]) == 0:\n",
        "      del maze[itr]\n",
        "\n",
        "  maze = np.array(maze)\n",
        "  free_cells = np.count_nonzero(maze == \"_\")\n",
        "  probability = 1/free_cells\n",
        "  prob_maze = np.where(maze == '_',1/free_cells, 0)\n",
        "  return maze, prob_maze, free_cells"
      ]
    },
    {
      "cell_type": "markdown",
      "metadata": {
        "id": "ifzpG6GcXpyM"
      },
      "source": [
        "# Question 1"
      ]
    },
    {
      "attachments": {},
      "cell_type": "markdown",
      "metadata": {
        "id": "n62zpTswbigc"
      },
      "source": [
        "The probability of being in the top left corner is $\\frac{1}{total\\,number\\,of\\,free\\,cells}$. This is because prior to any movements being made, there is an equal chance of the drone being in any of the unblocked cells. In this case there are 199 free cells so the initial probability for a free cell is $\\frac{1}{199}$."
      ]
    },
    {
      "cell_type": "code",
      "execution_count": 3,
      "metadata": {
        "colab": {
          "base_uri": "https://localhost:8080/",
          "height": 316
        },
        "id": "mQZs4iaYYSRI",
        "outputId": "496327dc-0a31-49ac-dee9-4b9f858bb123"
      },
      "outputs": [
        {
          "name": "stdout",
          "output_type": "stream",
          "text": [
            "Free Cells: 199\n",
            "The probability of being in the upper left cell is 0.005025125628140704\n"
          ]
        },
        {
          "data": {
            "text/plain": [
              "<matplotlib.image.AxesImage at 0x11ad4d930>"
            ]
          },
          "execution_count": 3,
          "metadata": {},
          "output_type": "execute_result"
        },
        {
          "data": {
            "image/png": "[encoded data removed]",
            "text/plain": [
              "<Figure size 640x480 with 1 Axes>"
            ]
          },
          "metadata": {},
          "output_type": "display_data"
        }
      ],
      "source": [
        "map, prob_map, free_cells = read_maze(\"Thor23-SA74-VERW-Schematic (Classified).txt\")\n",
        "\n",
        "print(f\"Free Cells: {free_cells}\")\n",
        "probability = 1/free_cells\n",
        "print(f\"The probability of being in the upper left cell is {probability}\")\n",
        "\n",
        "plt.imshow(np.where(map == \"_\", 1, 0)) "
      ]
    },
    {
      "attachments": {},
      "cell_type": "markdown",
      "metadata": {
        "id": "VpQJrLtTdbA7"
      },
      "source": [
        "# Question 2\n",
        "The probability of drone D in a cell N after a movement is:\n",
        " $P(D\\, in\\, N\\, after\\, move) = P(D\\, is\\, in\\, N\\, now)* P(D\\, in\\, N\\, next|\\,P\\, in\\, N\\, now\\,) +  \n",
        "P(D\\, is\\, in\\, Right\\, now) * P(D\\, in\\, N\\, next|\\,P\\, in\\, Right\\, now\\,) +  \n",
        "P(D\\, is\\, in\\, Left\\, now) * P(D\\, in\\, N\\, next|\\,P\\, in\\, Left\\, now\\,)+  \n",
        "P(D\\, is\\, in\\, Up\\, now) * P(D\\, in\\, N\\, next|\\,P\\, in\\, Up\\, now\\,)+  \n",
        "P(D\\, is\\, in\\, Down\\, now) * P(D\\, in\\, N\\, next|\\,P\\, in\\, Down\\, now\\,)$\n",
        "\n",
        "\n",
        "---\n",
        "\n",
        "\n",
        "Given the movement down, the probability simplifies to:\n",
        "$P(D\\, in\\, N\\, after\\, move) = P(D\\, is\\, in\\, N\\, now)* P(D\\, in\\, N\\, next|\\,P\\, in\\, N\\, now\\,) +  \n",
        "0 +  \n",
        "0 +  \n",
        "P(D\\, is\\, in\\, Up\\, now) * P(D\\, in\\, N\\, next|\\,P\\, in\\, Up\\, now\\,)+  \n",
        "0$ \n",
        "\n",
        "---\n",
        "\n",
        "This is maximized for cells in which there is a free cell above it and no free cell below:\n",
        "\n",
        "$P(D\\, is\\, in\\, N\\, now)$ and $P(D\\, is\\, in\\, Up\\, now)$ = $\\frac{1}{199}$\n",
        "\n",
        "and \n",
        "\n",
        "$P(D\\, in\\, N\\, next|\\,P\\, in\\, N\\, now\\,)$ and $P(D\\, in\\, N\\, next|\\,P\\, in\\, Up\\, now\\,)$ = 1\n",
        "\n",
        "Such that the maximum probability cells contain the drone with a probability of $\\frac{2}{199}$.\n",
        "\n",
        "---\n",
        "\n",
        "This is minimized for cells where there is no free cell above and there is a free cell below:\n",
        "\n",
        "$P(D\\, is\\, in\\, N\\, now)$ and $P(D\\, is\\, in\\, Up\\, now)$ = $\\frac{1}{199}$\n",
        "\n",
        "and \n",
        "\n",
        "$P(D\\, in\\, N\\, next|\\,P\\, in\\, N\\, now\\,)$ and $P(D\\, in\\, N\\, next|\\,P\\, in\\, Up\\, now\\,)$ = 0\n",
        "\n",
        "So there is a 0 probability for these cells.\n",
        "\n",
        "(See image below)"
      ]
    },
    {
      "cell_type": "code",
      "execution_count": 4,
      "metadata": {
        "colab": {
          "base_uri": "https://localhost:8080/",
          "height": 819
        },
        "id": "Pxv_jq4sjCdQ",
        "outputId": "b9f1341d-4e14-4abd-f125-48cbb7f51f1d"
      },
      "outputs": [
        {
          "name": "stdout",
          "output_type": "stream",
          "text": [
            "Purple denotes walls, \n",
            "Blue denotes lowest probability (not including walls), \n",
            "Yellow denotes the highest shown probability \n",
            "Colors in-between denoting values between min and max\n",
            "\n",
            "Max Probability = 2/199: True\n",
            "Min Probabililty = 0 (excluding walls): True\n"
          ]
        },
        {
          "data": {
            "image/png": "[encoded data removed]",
            "text/plain": [
              "<Figure size 1200x1200 with 1 Axes>"
            ]
          },
          "metadata": {},
          "output_type": "display_data"
        }
      ],
      "source": [
        "\n",
        "\"\"\"Simulate a probability update for a single move down\"\"\"\n",
        "prob_map = np.where(map == '_',1/free_cells, 0)\n",
        "new_prob_map = np.zeros_like(prob_map)\n",
        "for i in range(len(prob_map)):\n",
        "  for j in range(len(prob_map[i])):\n",
        "    if map[i][j] != 'X':\n",
        "      if i - 1 >= 0 and map[i - 1][j] != 'X':\n",
        "        new_prob_map[i][j] = new_prob_map[i][j] + prob_map[i - 1][j]\n",
        "      if i + 1 >= len(prob_map) or map[i + 1][j] == 'X':\n",
        "        new_prob_map[i][j] += prob_map[i][j]\n",
        "    else:\n",
        "      new_prob_map[i][j] = 0\n",
        "      \n",
        "#Used np.where to visually seperate the walls from the 0 probability cells since they both have 0 probability and would display the same\n",
        "fig = plt.figure(figsize=(12, 12))\n",
        "ax = fig.add_subplot(111)\n",
        "ax.imshow(np.where(map != ['X'], np.where(new_prob_map == 0, (new_prob_map) + (1/free_cells/2),new_prob_map) , 0))\n",
        "\"\"\"Displays probabilities in cells Rounded to 5 places\"\"\"\n",
        "for (j,i),label in np.ndenumerate(np.around(new_prob_map, decimals = 5)):\n",
        "    ax.text(i,j,label,ha='center',va='center', fontsize=8)\n",
        "\n",
        "#To show output with wall and cells with 0 prob having same color un-comment this line\n",
        "#plt.imshow(new_prob_map) \n",
        "\n",
        "print(\"Purple denotes walls, \\nBlue denotes lowest probability (not including walls), \\nYellow denotes the highest shown probability \\nColors in-between denoting values between min and max\\n\")\n",
        "print(\"Max Probability = 2/199:\", new_prob_map.max() == 2/199)\n",
        "print(\"Min Probabililty = 0 (excluding walls):\",np.where(map == \"X\", np.Inf, new_prob_map).min() == 0)"
      ]
    },
    {
      "attachments": {},
      "cell_type": "markdown",
      "metadata": {
        "id": "3JG1G_HJukNs"
      },
      "source": [
        "# Question 3"
      ]
    },
    {
      "attachments": {},
      "cell_type": "markdown",
      "metadata": {
        "id": "aY1BblnAyRJx"
      },
      "source": [
        "Helper Functions and Classes:\n",
        "\n",
        "The code block below contains the code for probability updates for each direction acording to the rules listed above.\n",
        "\n",
        "It also contains a barebones agent which starts in some random free space and can be given comands.\n",
        "\n",
        "The last section of this code block contains a regular bfs search and a helper function which allows the shortest distance from each cell to all other cells to be calculated and stored (this is will be used later)"
      ]
    },
    {
      "cell_type": "code",
      "execution_count": 5,
      "metadata": {
        "id": "MNcf-4hIulsg"
      },
      "outputs": [],
      "source": [
        "#probability update for a single move Down\n",
        "def down(prob_maze, maze):\n",
        "  new_prob_maze = np.zeros_like(prob_maze)\n",
        "  for i in range(len(prob_maze)):\n",
        "    for j in range(len(prob_maze[i])):\n",
        "      if maze[i][j] != 'X':\n",
        "        if i - 1 >= 0 and maze[i - 1][j] != 'X':\n",
        "          new_prob_maze[i][j] = new_prob_maze[i][j] + prob_maze[i - 1][j]\n",
        "        if i + 1 >= len(prob_maze) or maze[i + 1][j] == 'X':\n",
        "          new_prob_maze[i][j] += prob_maze[i][j]\n",
        "      else:\n",
        "        new_prob_maze[i][j] = 0\n",
        "  return new_prob_maze\n",
        "\n",
        "#probability update for a single move Up\n",
        "def up(prob_maze,maze):\n",
        "  new_prob_maze = np.zeros_like(prob_maze)\n",
        "  for i in range(len(prob_maze)):\n",
        "    for j in range(len(prob_maze[i])):\n",
        "      if maze[i][j] != 'X':\n",
        "        if i + 1 < len(prob_maze) and maze[i + 1][j] != 'X':\n",
        "          new_prob_maze[i][j] = new_prob_maze[i][j] + prob_maze[i + 1][j]\n",
        "        if i - 1 < 0 or maze[i - 1][j] == 'X':\n",
        "          new_prob_maze[i][j] += prob_maze[i][j]\n",
        "      else:\n",
        "        new_prob_maze[i][j] = 0\n",
        "  return new_prob_maze\n",
        "\n",
        "#probability update for a single move right\n",
        "def right(prob_maze,maze):\n",
        "  new_prob_maze = np.zeros_like(prob_maze)\n",
        "  for i in range(len(prob_maze)):\n",
        "    for j in range(len(prob_maze[i])):\n",
        "      if maze[i][j] != 'X':\n",
        "        if j - 1 >= 0 and maze[i][j-1] != 'X':\n",
        "          new_prob_maze[i][j] = new_prob_maze[i][j] + prob_maze[i][j-1]\n",
        "        if j + 1 >= len(prob_maze[i]) or maze[i][j + 1] == 'X':\n",
        "          new_prob_maze[i][j] += prob_maze[i][j]\n",
        "      else:\n",
        "        new_prob_maze[i][j] = 0\n",
        "  return new_prob_maze\n",
        "\n",
        "#probability update for a single move left\n",
        "def left(prob_maze,maze):\n",
        "  new_prob_maze = np.zeros_like(prob_maze)\n",
        "  for i in range(len(prob_maze)):\n",
        "    for j in range(len(prob_maze[i])):\n",
        "      if maze[i][j] != 'X':\n",
        "        if j + 1 < len(prob_maze[i]) and maze[i][j+1] != 'X':\n",
        "          new_prob_maze[i][j] = new_prob_maze[i][j] + prob_maze[i][j+1]\n",
        "        if j - 1 < 0 or maze[i][j - 1] == 'X':\n",
        "          new_prob_maze[i][j] += prob_maze[i][j]\n",
        "      else:\n",
        "        new_prob_maze[i][j] = 0\n",
        "  return new_prob_maze\n",
        "\n",
        "#Defines object for type of agent an movements (minimal since agent is just a drone)\n",
        "class agent:\n",
        "  def __init__(self, maze) -> None:\n",
        "    self.maze = maze\n",
        "    \n",
        "    #randomly select starting point that is blank\n",
        "    zeros = np.where(maze == \"_\")\n",
        "    zeros = np.dstack([zeros[0],zeros[1]])[0]\n",
        "    coords = random.choice(zeros)\n",
        "    self.x = coords[1]\n",
        "    self.y = coords[0]\n",
        "  \n",
        "  \"\"\"Agent movement commands and checks to ensure staying in bounds\"\"\"\n",
        "  def down(self):\n",
        "    if self.y + 1 < len(self.maze) and self.maze[self.y+1][self.x] != \"X\":\n",
        "      self.y += 1\n",
        "  def up(self):\n",
        "    if self.y - 1 >= 0 and self.maze[self.y-1][self.x] != \"X\":\n",
        "      self.y -= 1\n",
        "  def right(self):\n",
        "    if self.x + 1 < len(self.maze[0]) and self.maze[self.y][self.x+1] != \"X\":\n",
        "      self.x += 1\n",
        "  def left(self):\n",
        "    if self.x - 1 >= 0 and self.maze[self.y][self.x-1] != \"X\":\n",
        "      self.x -= 1\n",
        "\n",
        "\"\"\"The Three Functions Below compute the shortest path from one free cell to all other free cells, \n",
        "this is to reduce shortest path computation time if needed frequently\"\"\"\n",
        "\n",
        "def validate_cell(maze, cur, temp_x, temp_y, visited, fringe, maze_len, maze_height):\n",
        "    if 0 <= temp_y < maze_height and 0 <= temp_x < maze_len and (\n",
        "            maze[temp_y][temp_x] != \"X\"):\n",
        "        if visited.get((temp_y, temp_x)) is None:\n",
        "            temp_tuple = (temp_y, temp_x)\n",
        "            fringe.put(temp_tuple)\n",
        "            visited[(temp_y, temp_x)] = visited[cur] + 1 #adds cell to visited with shortest path list and length\n",
        "    return visited\n",
        "\n",
        "#Standard bfs for shortest distances\n",
        "def bfs(maze, x_pos, y_pos):\n",
        "  maze_height = len(maze)\n",
        "  maze_len = len(maze[0])\n",
        "  cur = (y_pos, x_pos)\n",
        "  fringe = Queue()\n",
        "  visited = {}\n",
        "  if maze[y_pos][x_pos] == 'X':\n",
        "      return False\n",
        "  fringe.put(cur)\n",
        "  visited[cur] = (0)\n",
        "\n",
        "  while not fringe.empty():\n",
        "      cur = fringe.get()\n",
        "      y_pos, x_pos = cur\n",
        "      \"\"\"Series to check all four directions for BFS shortest path\"\"\"\n",
        "      visited = validate_cell(maze, cur, x_pos - 1, y_pos, visited, fringe, maze_len, maze_height)      # check_left\n",
        "      visited = validate_cell(maze, cur, x_pos, y_pos - 1, visited, fringe, maze_len, maze_height)      # check up\n",
        "      visited = validate_cell(maze, cur, x_pos + 1, y_pos, visited, fringe, maze_len, maze_height)      # check_right\n",
        "      visited = validate_cell(maze, cur, x_pos, y_pos + 1, visited, fringe, maze_len, maze_height)      # check_down\n",
        "  return maze, visited\n",
        "\n",
        "#Funtion which combines all bfs searches to make shortest distance lookup\n",
        "def bfs_maze(maze, prob_maze):\n",
        "  shortest_dists = [[[]for x_pos in range(len(prob_maze[y_pos]))]for y_pos in range(len(prob_maze))]\n",
        "  for y_pos in range(len(prob_maze)):\n",
        "    for x_pos in range(len(prob_maze[y_pos])):\n",
        "      result = bfs(maze, x_pos, y_pos)\n",
        "      if result != False:\n",
        "        shortest_dists[y_pos][x_pos] = result[1]\n",
        "      else:\n",
        "        shortest_dists[y_pos][x_pos] = -1\n",
        "  return shortest_dists"
      ]
    },
    {
      "attachments": {},
      "cell_type": "markdown",
      "metadata": {
        "id": "s0oSXnd9bQ9s"
      },
      "source": [
        "# Definite Solution BFS (Slow):\n",
        "The algorithm below guarantees the shortest possible number of steps in order to be certain of the location of the agent. It begins with the starting state in which each cell has an equal probabililty of containing the drone and uses a BFS style search and adds each next possible state as a result of the posssible actions to the fringe and continues until it finds the first state in which the probability of the drone being in some node is 1. Given that the tree has a branching factor of 4, the search is incredibly slow on mazes requiring more than about 10 steps. However, using BFS guarentees shortest number of moves since it considers all combinations in order, meaning that when some combination occurs at some depth d, if that was the first time that combination occured, then it can only occur after d or more moves from the initial state.\n",
        "\n",
        "Here the state space is all possible combinations of belief states in the free nodes, where each node can be any value between n/free nodes where n is an int > 0 and <= free nodes. The goal state is any probability matrix in which the value of one free space is 1 meaning it is certain the drone is contained by that cell.\n",
        "\n",
        "Below is the code working for a very small 3x3 example, increasing the size to 4x4 is exponentially slower due to the significant increase in possible states"
      ]
    },
    {
      "cell_type": "code",
      "execution_count": 6,
      "metadata": {
        "id": "iuIeoFFl1v3f"
      },
      "outputs": [
        {
          "name": "stdout",
          "output_type": "stream",
          "text": [
            "Sequence: [0, 0, 0, 0, 0, 0]\n",
            "Steps: 6\n",
            "Expected Pos (y,x): 0\n",
            "Certainty Map: \n",
            "Yellow is 100% certainty, zero certainties that are not walls are increased to show contrast\n"
          ]
        },
        {
          "data": {
            "image/png": "[encoded data removed]",
            "text/plain": [
              "<Figure size 200x200 with 1 Axes>"
            ]
          },
          "metadata": {},
          "output_type": "display_data"
        }
      ],
      "source": [
        "\"\"\"Custom node class for BFS search of problem space, allows for comparison of nodes by maze easily\"\"\"\n",
        "class node:\n",
        "  def __init__(self, maze, depth) -> None:\n",
        "    self.up = None\n",
        "    self.down = None\n",
        "    self.left = None\n",
        "    self.right = None\n",
        "    self.maze = maze\n",
        "    self.depth = depth\n",
        "    self.sequence = []\n",
        "    self.action = None\n",
        "\n",
        "  def __eq__(self, other):\n",
        "    if isinstance(other, node):\n",
        "      val = np.isclose(self.maze, other.maze).all()\n",
        "      return val\n",
        "    else:\n",
        "      return False\n",
        "\n",
        "  def __ne__(self, other):\n",
        "    return not self.__eq__(other)\n",
        "\n",
        "  def __lt__(self, other):\n",
        "    return self.__eq__(other)\n",
        "\n",
        "  def __gt__(self, other):\n",
        "    return self.__eq__(other)\n",
        "\n",
        "\n",
        "#BFS style search of problem space\n",
        "def s_bfs(maze, prob_maze):\n",
        "  #Starting arrangement\n",
        "  head = node(prob_maze, 0)\n",
        "  min_node = node(None, np.Inf)\n",
        "  fringe = []\n",
        "  visited = []\n",
        "  fringe.append(head)\n",
        "\n",
        "  while fringe:\n",
        "    cur_node = fringe.pop(0)\n",
        "      \n",
        "    #Check if node has been visited\n",
        "    if any(x == cur_node for x in visited):\n",
        "      continue\n",
        "    visited.append(cur_node)\n",
        "    #Check if action results in certainty\n",
        "    cur_node.up = node(up(cur_node.maze.copy(), maze), cur_node.depth + 1)\n",
        "    cur_node.up.sequence = cur_node.sequence[:]\n",
        "    cur_node.up.sequence.append(0)\n",
        "    if np.isclose(cur_node.up.maze.max(), 1):\n",
        "      if cur_node.up.depth < min_node.depth:\n",
        "        min_node = cur_node.up\n",
        "        break\n",
        "    cur_node.down = node(down(cur_node.maze.copy(), maze), cur_node.depth + 1)\n",
        "    cur_node.down.sequence = cur_node.sequence[:]\n",
        "    cur_node.down.sequence.append(0)\n",
        "    if np.isclose(cur_node.down.maze.max(), 1):\n",
        "      if cur_node.down.depth < min_node.depth:\n",
        "        min_node = cur_node.down\n",
        "        break\n",
        "    cur_node.left = node(left(cur_node.maze.copy(), maze), cur_node.depth + 1)\n",
        "    cur_node.left.sequence = cur_node.sequence[:]\n",
        "    cur_node.left.sequence.append(0)\n",
        "    if np.isclose(cur_node.left.maze.max(), 1):\n",
        "      if cur_node.left.depth < min_node.depth:\n",
        "        min_node = cur_node.left\n",
        "        break\n",
        "    cur_node.right = node(right(cur_node.maze.copy(), maze), cur_node.depth + 1)\n",
        "    cur_node.right.sequence = cur_node.sequence[:]\n",
        "    cur_node.right.sequence.append(0)\n",
        "    if np.isclose(cur_node.right.maze.max(), 1):\n",
        "      if cur_node.right.depth < min_node.depth:\n",
        "        min_node = cur_node.right\n",
        "        break\n",
        "    #Add actions to fringe\n",
        "\n",
        "    if cur_node != cur_node.up:\n",
        "      fringe.append(cur_node.up)\n",
        "    if cur_node != cur_node.down:\n",
        "      fringe.append(cur_node.down)\n",
        "    if cur_node != cur_node.left:\n",
        "      fringe.append(cur_node.left)\n",
        "    if cur_node != cur_node.right:\n",
        "      fringe.append(cur_node.right)\n",
        "\n",
        "  end_pos = np.where(min_node.maze == 1)\n",
        "  end_pos = (end_pos[1], end_pos[0])\n",
        "  if len(end_pos[0]) != 0:\n",
        "    end_pos= end_pos[0][0]\n",
        "  else:\n",
        "    end_pos = (-1,-1)\n",
        "  return min_node.depth, min_node.sequence, min_node.maze, end_pos\n",
        "\n",
        "def main():\n",
        "  maze_file_name = \"very_tiny.txt\"\n",
        "  maze, prob_maze, free_cells = read_maze(maze_file_name)\n",
        "  min_steps, min_sequence, min_maze, end_pos = s_bfs(maze, prob_maze)\n",
        "\n",
        "  print(\"Sequence:\", min_sequence)\n",
        "  print(\"Steps:\",min_steps)\n",
        "  print(\"Expected Pos (y,x):\", end_pos)\n",
        "  print(\"Certainty Map: \\nYellow is 100% certainty, zero certainties that are not walls are increased to show contrast\")\n",
        "\n",
        "\n",
        "  fig = plt.figure(figsize=(2,2))\n",
        "  plt.imshow(np.where(maze != ['X'], np.where(min_maze == 0, (min_maze) + ((1/2)),min_maze) , 0))\n",
        "  plt.show()\n",
        "main()"
      ]
    },
    {
      "attachments": {},
      "cell_type": "markdown",
      "metadata": {
        "id": "gsmArVbOdud7"
      },
      "source": [
        "# A* (Heuristic) Attempt:\n",
        "In attempt to improve this algorithms speed in trade for accuracy, a heuristic based approach was attempted. The main difference over BFS is the use of a priority queue with the goal that some heuristics would provide a close enough result. \n",
        "\n",
        "Ultimately the heuristic I chose to use was the longest distance between any two nodes with non-zero probabilities, since the minimum distance is usually greater than or equal to that value, however this is not a perfect heuristic since in some cases this does not hold true. Even with this heuristic the execution on very large mazes like 19x19 is still not very fast and does not finish in a reasonable time. However if I take something like a 10x9 corner of the given schematic, it will execute very quickly and give an small approximate number of steps (it can do some larger mazes also, however it can not do significantly larger ones). This smaller version is saved in the tiny.txt file\n"
      ]
    },
    {
      "cell_type": "code",
      "execution_count": 7,
      "metadata": {
        "id": "egX_OsgYfA2n"
      },
      "outputs": [
        {
          "name": "stdout",
          "output_type": "stream",
          "text": [
            "Steps: 55 done\n",
            "(array([0]), array([0]))\n",
            "Sequence: [2, 2, 2, 2, 2, 2, 2, 2, 0, 0, 3, 0, 3, 3, 1, 1, 1, 3, 3, 3, 3, 1, 3, 3, 1, 1, 2, 0, 3, 0, 0, 0, 0, 0, 0, 0, 1, 1, 1, 2, 0, 0, 0, 2, 2, 2, 2, 0, 0, 0, 0, 0, 2, 2, 2]\n",
            "Steps: 55\n",
            "Expected Pos (y,x): 0\n",
            "Certainty Map: \n",
            "Yellow is 100% certainty, zero certainties that are not walls are increased to show contrast\n"
          ]
        },
        {
          "data": {
            "image/png": "[encoded data removed]",
            "text/plain": [
              "<Figure size 200x200 with 1 Axes>"
            ]
          },
          "metadata": {},
          "output_type": "display_data"
        },
        {
          "name": "stdout",
          "output_type": "stream",
          "text": [
            "Testing with agents:\n",
            "Agent 0 pos (y,x): 0 0\n",
            "Agent 1 pos (y,x): 0 0\n",
            "Agent 2 pos (y,x): 0 0\n",
            "Agent 3 pos (y,x): 0 0\n",
            "Agent 4 pos (y,x): 0 0\n"
          ]
        }
      ],
      "source": [
        "\n",
        "\"\"\"Heuristic assumes the two furthest appart non-zero prob cells is a good approximation for steps\"\"\"\n",
        "def ld(maze, prob_maze, shortest_dists):\n",
        "  dist = 0\n",
        "  for i in range(len(prob_maze)):\n",
        "    for j in range(len(prob_maze[i])):\n",
        "      if prob_maze[i][j] > 0:\n",
        "        for key, val in shortest_dists[i][j].items():\n",
        "          if prob_maze[key] != 0 and val > dist:\n",
        "            dist = val\n",
        "            \n",
        "  return dist\n",
        "\n",
        "\"\"\"Heuristic search that uses priority queue instead of regular queue\"\"\"\n",
        "\n",
        "def s_heur_search(maze, prob_maze):\n",
        "\n",
        "  #Starting arrangement\n",
        "  head = node(prob_maze, 0)\n",
        "  min_node = node(None, np.Inf)\n",
        "  min_sequence = []\n",
        "  fringe = []\n",
        "  visited = []\n",
        "  shortest_dists = bfs_maze(maze, prob_maze)\n",
        "  #Here comb_dist is an example heuristic tried\n",
        "  heapq.heappush(fringe, (ld(maze, prob_maze, shortest_dists), head))\n",
        "  while fringe:\n",
        "    comb, cur_node = heapq.heappop(fringe)\n",
        "    if any(x == cur_node for x in visited):\n",
        "      continue\n",
        "    visited.append(cur_node)\n",
        "    #Checks if actions result in a certainty combination\n",
        "    cur_node.up = node(up(cur_node.maze.copy(), maze), cur_node.depth + 1)\n",
        "    \n",
        "    cur_node.up.sequence = cur_node.sequence[:]\n",
        "    cur_node.up.sequence.append(0)\n",
        "    if np.isclose(cur_node.up.maze.max(), 1):\n",
        "      if cur_node.up.depth < min_node.depth:\n",
        "        min_node = cur_node.up\n",
        "        break\n",
        "    cur_node.down = node(down(cur_node.maze.copy(), maze), cur_node.depth + 1)\n",
        "    \n",
        "    cur_node.down.sequence = cur_node.sequence[:]\n",
        "    cur_node.down.sequence.append(1)\n",
        "    if np.isclose(cur_node.down.maze.max(), 1):\n",
        "      if cur_node.down.depth < min_node.depth:\n",
        "        min_node = cur_node.down\n",
        "        break\n",
        "    cur_node.left = node(left(cur_node.maze.copy(), maze), cur_node.depth + 1)\n",
        "\n",
        "    cur_node.left.sequence = cur_node.sequence[:]\n",
        "    cur_node.left.sequence.append(2)\n",
        "    if np.isclose(cur_node.left.maze.max(), 1):\n",
        "      if cur_node.left.depth < min_node.depth:\n",
        "        min_node = cur_node.left\n",
        "        break\n",
        "    cur_node.right = node(right(cur_node.maze.copy(), maze), cur_node.depth + 1)\n",
        "\n",
        "    cur_node.right.sequence = cur_node.sequence[:]\n",
        "    cur_node.right.sequence.append(3)\n",
        "    if np.isclose(cur_node.right.maze.max(), 1):\n",
        "      if cur_node.right.depth < min_node.depth:\n",
        "        min_node = cur_node.right\n",
        "        break\n",
        "    #Add new combination to heap with heuristic\n",
        "    if cur_node != cur_node.up:\n",
        "      heapq.heappush(fringe, (ld(maze, cur_node.up.maze, shortest_dists), cur_node.up))\n",
        "    if cur_node != cur_node.down:\n",
        "      heapq.heappush(fringe, (ld(maze, cur_node.down.maze, shortest_dists), cur_node.down))\n",
        "    if cur_node != cur_node.left:\n",
        "      heapq.heappush(fringe, (ld(maze, cur_node.left.maze, shortest_dists), cur_node.left))\n",
        "    if cur_node != cur_node.right:\n",
        "      heapq.heappush(fringe, (ld(maze, cur_node.right.maze, shortest_dists), cur_node.right))\n",
        "\n",
        "  print(\"Steps:\", min_node.depth, \"done\")\n",
        "  end_pos = np.where(min_node.maze == 1)\n",
        "  end_pos = (end_pos[1], end_pos[0]) \n",
        "  print(end_pos)\n",
        "  if len(end_pos[0]) != 0:\n",
        "    end_pos= end_pos[0][0]\n",
        "  else:\n",
        "    end_pos = (-1,-1)\n",
        "  return min_node.depth, min_node.sequence, min_node.maze, end_pos\n",
        "  \n",
        "\n",
        "def main():\n",
        "  \n",
        "  maze_file_name = \"tiny.txt\"\n",
        "  maze, prob_maze, free_cells = read_maze(maze_file_name)\n",
        "  min_steps, min_sequence, min_maze, end_pos = s_heur_search(maze, prob_maze)\n",
        "\n",
        "  print(\"Sequence:\", min_sequence)\n",
        "  print(\"Steps:\",min_steps)\n",
        "  print(\"Expected Pos (y,x):\", end_pos)\n",
        "  print(\"Certainty Map: \\nYellow is 100% certainty, zero certainties that are not walls are increased to show contrast\")\n",
        "\n",
        "\n",
        "  fig = plt.figure(figsize=(2,2))\n",
        "  plt.imshow(np.where(maze != ['X'], np.where(min_maze == 0, (min_maze) + ((1/2)),min_maze) , 0))\n",
        "  plt.show()\n",
        "\n",
        "  print(\"Testing with agents:\")\n",
        "  for itr in range(5):\n",
        "    agent_obj = agent(maze)\n",
        "    action = [agent_obj.up, agent_obj.down, agent_obj.left, agent_obj.right]\n",
        "    for x in min_sequence:\n",
        "      action[x]()\n",
        "    print(\"Agent\", itr, \"pos (y,x):\", agent_obj.y, agent_obj.x)\n",
        "\n",
        "main()\n"
      ]
    },
    {
      "attachments": {},
      "cell_type": "markdown",
      "metadata": {},
      "source": [
        "Ultimately this solution gives reasonably short sequences (much better than random brute force) and is succesful on randomly spawned agents. This is because the heuristic results in minimize the distance between non-zero probability nodes and in doing so progresses towards the solution relatively quickly. \n",
        "\n",
        "In more complex problem spaces, the heuristic seems to be less succesful since there are many states in which the distance could be minimuzed.However it should still finish executing faster than BFS, with the consequence of a suboptimal solution."
      ]
    },
    {
      "attachments": {},
      "cell_type": "markdown",
      "metadata": {
        "id": "GfFoFCzCnAGc"
      },
      "source": [
        "# Chosen Alternate Solution:\n",
        "\n",
        "Since these attempts both take too long to execution I considered ways to simplify the problem to get a fairly short path in a reasonable amount of time. Since all nodes move together, the minimum number of steps taken must be greater than or equal to the distance of some cell to the result cell (where certainty is reached). So if I know what cell is the result cell, I know the minimum steps is at a minimum the distance from that cell to the cell furthest away. \n",
        "\n",
        "Although I don't know what that cell is, I do know that it is most likely to be a corner cell since these cells allow for probability combinations from moves in two directions, versus cells next to walls which only allow for combinations from the direction perpendicular.\n",
        "\n",
        "To simplify the problem, if I pick some corner, and find the furthest non-zero probability cell away and \"walk\" that cell to the corner, I will be certain that that cell and all cells it combined with on the way to the corner are at that corner. If I keep picking the furthest away non-zero cell from the corner and walking it to this corner, eventually the probability of that corner should be 1. This is because if a probability moves away from the corner, it will eventually be brought back. Choosing a path to walk can be done easily using the bfs shortest path look up I created previously.\n",
        "\n",
        "This should result in a relatively low number of steps it attempts to minimize the furthest away non-zero probability by constantly hearding them to a single node. Since the furthest node is chosen at each iteration, that node should keep combining with other nodes as it attempts to progress to the chosen corner until it either arrives at that corner or manages to combine with all other non-zero probability cells so that certainty is reached.\n",
        "\n",
        "While it would be difficult to find what corner is on average the best, finding corners in general is easy, and this hearding algorithm can be executed relatively fast meaning that it can be executed for each corner in the maze. The chosen corner which allows for certainty in the lowest number of steps is utimately the best on average. Although this is does not guarentee optimal results, it results in a fairly short number of steps for most mazes. Furthermore, in smaller or simpler mazes, the algorithm is usually able to find the shortest number of steps.\n",
        "\n",
        "This relaxed version of the problem works fairly well, it is able to guess a shortest number of sequences in a very short period of time even for the full 19x19 given schematic. While it does not result in the shortest possible sequence of moves, it manages to find a sequence with fewer moves than the A* problem, taking only 46 versus A*'s 55. While I intitially thought this may also work to serve as a heurisitic, it would not be admissible since it over estmiates distances (consistent heurisitcs should underestimate or be equal), regardless it seems to give a relatively low step sequence for most mazes and in some mazes it gives a true minimum, however a shortest sequence is not guarenteed so this is a suboptimal solution."
      ]
    },
    {
      "cell_type": "code",
      "execution_count": 8,
      "metadata": {
        "colab": {
          "base_uri": "https://localhost:8080/",
          "height": 455
        },
        "id": "2BnY9Bt5qN2V",
        "outputId": "9c7763a5-8e97-4853-934b-7670dc1db60d"
      },
      "outputs": [
        {
          "name": "stdout",
          "output_type": "stream",
          "text": [
            "Thor23-SA74-VERW-Schematic (Classified).txt\n",
            "Sequence: [2, 0, 0, 0, 0, 2, 2, 0, 0, 2, 2, 0, 2, 2, 1, 1, 1, 1, 1, 1, 1, 2, 2, 0, 0, 0, 0, 0, 0, 0, 0, 0, 0, 0, 0, 0, 0, 0, 0, 0, 0, 2, 2, 2, 2, 2, 2, 2, 2, 2, 3, 3, 3, 3, 3, 3, 1, 1, 3, 1, 1, 3, 3, 0, 0, 0, 0, 0, 0, 0, 0, 0, 0, 0, 0, 0, 0, 0, 0, 0, 0, 2, 2, 2, 2, 2, 2, 2, 2, 2, 1, 1, 1, 1, 1, 1, 1, 2, 2, 2, 2, 2, 0, 0, 0, 0, 0, 2, 2, 0, 0, 2, 2, 2, 2, 2, 2, 2, 2, 2, 2, 2, 0, 0, 0, 0, 3, 3, 3, 3, 3, 3, 3, 0, 0, 0, 0, 0, 0, 0, 2, 2, 2, 2, 2, 2, 2, 3, 3, 1, 1, 1, 2, 2, 2, 2, 2, 0, 0, 0, 0, 0]\n",
            "Steps: 162\n",
            "Expected Pos (y,x): (0, 0)\n",
            "Certainty Map: \n",
            "Yellow is 100% certainty, zero certainties that are not walls are increased to show contrast\n"
          ]
        },
        {
          "data": {
            "image/png": "[encoded data removed]",
            "text/plain": [
              "<Figure size 200x200 with 1 Axes>"
            ]
          },
          "metadata": {},
          "output_type": "display_data"
        },
        {
          "name": "stdout",
          "output_type": "stream",
          "text": [
            "Testing with agents:\n",
            "Agent 0 pos (y,x): 0 0\n",
            "Agent 1 pos (y,x): 0 0\n",
            "Agent 2 pos (y,x): 0 0\n",
            "Agent 3 pos (y,x): 0 0\n",
            "Agent 4 pos (y,x): 0 0\n",
            "--------------------------------------------------------------------\n",
            "Tiny.txt\n",
            "Sequence: [2, 2, 2, 2, 2, 2, 2, 2, 0, 0, 3, 3, 3, 3, 3, 3, 3, 0, 0, 0, 0, 0, 0, 0, 2, 2, 2, 2, 2, 2, 2, 3, 3, 1, 1, 1, 2, 2, 2, 2, 2, 0, 0, 0, 0, 0]\n",
            "Steps: 46\n",
            "Expected Pos (y,x): (0, 0)\n",
            "Certainty Map: \n",
            "Yellow is 100% certainty, zero certainties that are not walls are increased to show contrast\n"
          ]
        },
        {
          "data": {
            "image/png": "[encoded data removed]",
            "text/plain": [
              "<Figure size 200x200 with 1 Axes>"
            ]
          },
          "metadata": {},
          "output_type": "display_data"
        },
        {
          "name": "stdout",
          "output_type": "stream",
          "text": [
            "Testing with agents:\n",
            "Agent 0 pos (y,x): 0 0\n",
            "Agent 1 pos (y,x): 0 0\n",
            "Agent 2 pos (y,x): 0 0\n",
            "Agent 3 pos (y,x): 0 0\n",
            "Agent 4 pos (y,x): 0 0\n"
          ]
        }
      ],
      "source": [
        "\"\"\"Function to return a list of every corner\"\"\"\n",
        "def get_corners(maze, prob_maze):\n",
        "  corners = set()\n",
        "  for i in range(len(prob_maze)):\n",
        "    for j in range(len(prob_maze[i])):\n",
        "      if maze[i][j] != \"X\":\n",
        "        #shapes of corners\n",
        "        if (i - 1 < 0 or maze[i-1][j] == 'X') and (j - 1 < 0 or maze[i][j-1] == 'X') or (i - 1 < 0 or maze[i-1][j] == 'X') and (j + 1 >= len(maze[0]) or maze[i][j+1] == 'X') or (i + 1 >= len(maze) or maze[i+1][j] == 'X') and (j - 1 < 0 or maze[i][j-1] == 'X') or (i + 1 >= len(maze) or maze[i+1][j] == 'X') and (j + 1 >= len(maze[0]) or maze[i][j+1] == 'X'):\n",
        "          corners.add((i,j))\n",
        "  return list(corners)\n",
        "\n",
        "\n",
        "\"\"\"Algorithm which attempts to find a cell of certainty in the fewest steps by picking a corner \n",
        "and continuously walking all far away non-zero probability cells to that corner until the maze is solves\"\"\"\n",
        "def corners_algo(maze, prob_maze, free_cells):\n",
        "  shortest_dists = bfs_maze(maze, prob_maze)\n",
        "\n",
        "  min_steps = np.Inf\n",
        "  min_sequence = []\n",
        "  end_pos = np.Inf\n",
        "  corners = get_corners(maze, prob_maze)\n",
        "  min_maze = prob_maze\n",
        "\n",
        "  #execute algo for each possible corner\n",
        "  for goal_index in corners:\n",
        "    steps = 0\n",
        "    new_prob_maze = prob_maze.copy()\n",
        "    sequence = []\n",
        "    #while no certain\n",
        "    while not np.isclose(new_prob_maze.max(), 1):\n",
        "      #if too many steps are taken abandon corner\n",
        "      if steps > min_steps or steps > 1000:\n",
        "        break\n",
        "\n",
        "      greatest_dist = 0\n",
        "      g_pos = (0, 0)  #the furthest node\n",
        "      #uses bfs shortest dist map to find furthest\n",
        "      for key, item in shortest_dists[goal_index[0]][goal_index[1]].items():\n",
        "        if item > greatest_dist and new_prob_maze[key] != 0:\n",
        "          greatest_dist = item\n",
        "          g_pos = key\n",
        "    \n",
        "      #while furthest distance node does not equal corner or result in certainty continue walking shortest path\n",
        "      while g_pos != goal_index and not np.isclose(new_prob_maze.max(), 1):\n",
        "        steps += 1\n",
        "        shortest_path = shortest_dists[goal_index[0]][goal_index[1]].get((g_pos[0], g_pos[1]))\n",
        "        action = down\n",
        "        if not shortest_dists[goal_index[0]][goal_index[1]].get((g_pos[0] + 1, g_pos[1])) is None and shortest_dists[goal_index[0]][goal_index[1]].get((g_pos[0] + 1, g_pos[1])) < shortest_path:\n",
        "          action = down\n",
        "          shortest_path = shortest_dists[goal_index[0]][goal_index[1]].get((g_pos[0] + 1, g_pos[1]))\n",
        "\n",
        "        if not shortest_dists[goal_index[0]][goal_index[1]].get((g_pos[0] - 1, g_pos[1])) is None and shortest_dists[goal_index[0]][goal_index[1]].get((g_pos[0] - 1, g_pos[1])) < shortest_path:\n",
        "          action = up\n",
        "          shortest_path = shortest_dists[goal_index[0]][goal_index[1]].get((g_pos[0] - 1, g_pos[1]))\n",
        "\n",
        "        if not shortest_dists[goal_index[0]][goal_index[1]].get((g_pos[0], g_pos[1] + 1)) is None and shortest_dists[goal_index[0]][goal_index[1]].get((g_pos[0], g_pos[1] + 1)) < shortest_path:\n",
        "          action = right\n",
        "          shortest_path = shortest_dists[goal_index[0]][goal_index[1]].get((g_pos[0], g_pos[1] + 1))\n",
        "        \n",
        "        if not shortest_dists[goal_index[0]][goal_index[1]].get((g_pos[0], g_pos[1] - 1)) is None and shortest_dists[goal_index[0]][goal_index[1]].get((g_pos[0], g_pos[1] - 1)) < shortest_path:\n",
        "          action = left\n",
        "          shortest_path = shortest_dists[goal_index[0]][goal_index[1]].get((g_pos[0], g_pos[1] - 1)) \n",
        "          \n",
        "        #add steps to sequence\n",
        "        new_prob_maze = action(new_prob_maze, maze)\n",
        "        if action == up:\n",
        "          g_pos = (g_pos[0] - 1, g_pos[1])\n",
        "          sequence.append(0)\n",
        "        if action == down:\n",
        "          g_pos = (g_pos[0] + 1, g_pos[1])\n",
        "          sequence.append(1)\n",
        "        if action == left:\n",
        "          g_pos = (g_pos[0], g_pos[1] - 1)\n",
        "          sequence.append(2)\n",
        "        if action == right:\n",
        "          g_pos = (g_pos[0], g_pos[1] + 1)\n",
        "          sequence.append(3)\n",
        "\n",
        "    #update minimums\n",
        "    if steps < min_steps:\n",
        "      min_steps = steps\n",
        "      min_sequence = sequence\n",
        "      end_pos = g_pos\n",
        "      min_maze = new_prob_maze\n",
        "\n",
        "  return min_sequence, min_maze, end_pos, min_sequence, min_steps\n",
        "        \n",
        "\n",
        "def main():\n",
        "  \n",
        "  maze_file_name = \"Thor23-SA74-VERW-Schematic (Classified).txt\"\n",
        "  maze, prob_maze, free_cells = read_maze(maze_file_name)\n",
        "\n",
        "  min_sequence, min_maze, end_pos, min_sequence, min_steps = corners_algo(maze,prob_maze,free_cells)\n",
        "  print(\"Thor23-SA74-VERW-Schematic (Classified).txt\")\n",
        "  print(\"Sequence:\", min_sequence)\n",
        "  print(\"Steps:\",min_steps)\n",
        "  print(\"Expected Pos (y,x):\", end_pos)\n",
        "  print(\"Certainty Map: \\nYellow is 100% certainty, zero certainties that are not walls are increased to show contrast\")\n",
        "  fig = plt.figure(figsize=(2, 2))\n",
        "  plt.imshow(np.where(maze != ['X'], np.where(min_maze == 0, (min_maze) + ((1/2)),min_maze) , 0))\n",
        "  plt.show()\n",
        "\n",
        "  \"\"\"Create 5 Agents Randomly in the Maze and force them to follow sequence\"\"\"\n",
        "  print(\"Testing with agents:\")\n",
        "  #Prints the resulting position\n",
        "  for itr in range(5):\n",
        "    agent_obj = agent(maze)\n",
        "    action = [agent_obj.up, agent_obj.down, agent_obj.left, agent_obj.right]\n",
        "    for x in min_sequence:\n",
        "      action[x]()\n",
        "    print(\"Agent\", itr, \"pos (y,x):\", agent_obj.y, agent_obj.x)\n",
        "\n",
        "  \"\"\"Testing with tiny.txt for comparison\"\"\"\n",
        "  maze_file_name = \"tiny.txt\"\n",
        "  maze, prob_maze, free_cells = read_maze(maze_file_name)\n",
        "\n",
        "  min_sequence, min_maze, end_pos, min_sequence, min_steps = corners_algo(maze,prob_maze,free_cells)\n",
        "  print(\"--------------------------------------------------------------------\")\n",
        "  print(\"Tiny.txt\")\n",
        "  print(\"Sequence:\", min_sequence)\n",
        "  print(\"Steps:\",min_steps)\n",
        "  print(\"Expected Pos (y,x):\", end_pos)\n",
        "  print(\"Certainty Map: \\nYellow is 100% certainty, zero certainties that are not walls are increased to show contrast\")\n",
        "  fig = plt.figure(figsize=(2, 2))\n",
        "  plt.imshow(np.where(maze != ['X'], np.where(min_maze == 0, (min_maze) + ((1/2)),min_maze) , 0))\n",
        "  plt.show()\n",
        "\n",
        "  \"\"\"Create 5 Agents Randomly in the Maze and force them to follow sequence\"\"\"\n",
        "  print(\"Testing with agents:\")\n",
        "  #Prints the resulting position\n",
        "  for itr in range(5):\n",
        "    agent_obj = agent(maze)\n",
        "    action = [agent_obj.up, agent_obj.down, agent_obj.left, agent_obj.right]\n",
        "    for x in min_sequence:\n",
        "      action[x]()\n",
        "    print(\"Agent\", itr, \"pos (y,x):\", agent_obj.y, agent_obj.x)\n",
        "  \n",
        "\n",
        "main()\n"
      ]
    },
    {
      "cell_type": "markdown",
      "metadata": {
        "id": "itnc9FaHApL1"
      },
      "source": [
        "# Question 4"
      ]
    },
    {
      "attachments": {},
      "cell_type": "markdown",
      "metadata": {},
      "source": [
        "Proposed solution:\n",
        "\n",
        "Due to the extremely high number of possible combinations of schematics for a 19x19 grid, brute force is not feasible. Additionally since my shortest possible path algorithm is not optimal, proving a maze requires a large number of steps is slightly more difficult. Howwever, to appraoch this problem I would use hill-climbing, where some initial schematic is created randomly with a lower number of walls and checked to be valid. If it is valid then the hill-climb would begin where the value of some schematic is the shortest possible sequence for that schematic, at each iteration, some combination of adding or removing walls is checked to see if it improves the value of the schematic until the schematic can not be improved. This algorithm could be made more robust using random restarts and simulated annealing (taking a worse descision with some probability), which should reduce the chance of finding a local minimum. Due to the very large state space, there is no guarentee that a most difficult schematic is found, however hill climbing should ensure that the schematics found are at least more difficult than the initial schematic or the intitial schematic can not easily be made to require more steps."
      ]
    },
    {
      "attachments": {},
      "cell_type": "markdown",
      "metadata": {},
      "source": [
        "---\n",
        "\n",
        "Using Smaller Mazes as Intuition:\n",
        "\n",
        "Since my A* was not optimal, in order to implement some form of solution, I attempted to use knowledge I could gain from smaller mazes to build a larger one.\n",
        "\n",
        "Although it not feasible to generate all 19x19 schematics and check to see which one is the longest, it is much more reasobale to do so using a much smaller schematic such as a 3x3. At this size, even the true BFS problem space algorithm can be used to guarentee an acurate shortest path length. \n",
        "\n",
        "The code below does this, generating all possible combinations for a 3x3 maze by using all length 9 binary strings reshapped to a 3x3 matrix such that 1 is a wall and 0 is a free space. A BFS for shortest path search is then run to eliminate mazes that are invalid (checks if free spaces are not connected). Once a valid set is established, the valid schematics are checked and the one requiring the most steps is returned.\n",
        "\n",
        "The idea is that this most difficult schematic could provide insight for a potentially larger difficult one"
      ]
    },
    {
      "cell_type": "code",
      "execution_count": 9,
      "metadata": {
        "colab": {
          "base_uri": "https://localhost:8080/",
          "height": 375
        },
        "id": "_M3BuIMp82_4",
        "outputId": "019afc30-2139-4f2c-b274-eddfc665b9f4"
      },
      "outputs": [
        {
          "name": "stdout",
          "output_type": "stream",
          "text": [
            "Num Valid 3x3: 196\n",
            "Min number of Steps Required:  6\n",
            "[['_' '_' '_']\n",
            " ['_' 'X' '_']\n",
            " ['_' '_' '_']]\n"
          ]
        }
      ],
      "source": [
        "def generate_three_by_three():\n",
        "\n",
        "  \"\"\"Create all possible combinations using reshapped binary strings where 0 is a free space and 1 is a wall\"\"\"\n",
        "  \"\"\"Eliminate all unsolvable mazes\"\"\"\n",
        "  binary_strings = np.array([list(i) for i in itertools.product([0, 1], repeat=9)])\n",
        "  string_mazes = []\n",
        "  for x in binary_strings:\n",
        "    m = np.reshape(x, (3,3))\n",
        "    m = (np.where(m == 1, \"X\", \"_\"))\n",
        "    free_spaces = np.count_nonzero(m == \"_\")\n",
        "    #weeds out overly easy mazes\n",
        "    if free_spaces < 3 or free_spaces == 9:\n",
        "      continue\n",
        "    combo = np.argwhere(m == \"_\")[0]\n",
        "    y = combo[0]\n",
        "    x = combo[1]\n",
        "    _, dists = bfs(m, x, y)\n",
        "    num_entries = len(dists)\n",
        "    #if the number of connected cells is the same as total free spaces then valid\n",
        "    if num_entries == free_spaces:\n",
        "      string_mazes.append(m)\n",
        "  \n",
        "  \"\"\"Check which of the valid mazes results in the most requred steps to solve\"\"\"\n",
        "  longest_path = 0\n",
        "  longest_maze = np.zeros((3,3))\n",
        "  longest_sequence = 0\n",
        "  print(\"Num Valid 3x3:\", len(string_mazes))\n",
        "  for i,x in enumerate(string_mazes):\n",
        "    #runs problem space bfs\n",
        "    prob_maze = np.where(x == \"_\", 1/np.count_nonzero(x == \"_\"), 0)\n",
        "    free_cells = np.count_nonzero(x == \"_\")\n",
        "    #path here just means min number of steps found\n",
        "    path,_,_,_ = s_bfs(x, prob_maze)\n",
        "    if path > longest_path:\n",
        "      longest_path = path\n",
        "      longest_maze = x\n",
        "      #longest_sequence = sequence\n",
        "      \n",
        "\n",
        "  print(\"Min number of Steps Required: \", longest_path)\n",
        "  print(longest_maze)\n",
        "\n",
        "  return longest_maze\n",
        "\n",
        "maze = generate_three_by_three()\n",
        "  "
      ]
    },
    {
      "attachments": {},
      "cell_type": "markdown",
      "metadata": {},
      "source": [
        "Using the knowledge that this is the most difficult 3x3 schematic I can use it as influence for a larger one, with the hope that the difficult scales. If the shape was not symetrical, I would have chosen to tile the pattern and rotate some of the tiles in order to create a potentially difficult pattern to solve, however since it is fully symetric square with a dot in the middle, it can be used to create larger concentric squares, where each inner square is like the dot in the middle, with the hope the difficulty will scale to when used in a larger scenario. The openings connecting the rings will be alternated in order to further increase the complexity by requiring more steps to combine the probability of an outer and inner ring.\n",
        "\n",
        "Given a faster algorithm this could be potentially attempted with slighly bigger graphs, which may serve even better for finding patterns that are difficult when scaled up.\n",
        "\n",
        "See code to create schematic and the resulting graph below:"
      ]
    },
    {
      "cell_type": "code",
      "execution_count": 10,
      "metadata": {},
      "outputs": [
        {
          "data": {
            "image/png": "[encoded data removed]",
            "text/plain": [
              "<Figure size 200x200 with 1 Axes>"
            ]
          },
          "metadata": {},
          "output_type": "display_data"
        }
      ],
      "source": [
        "def generate_19x19():\n",
        "    maze = np.where(np.zeros((19,19)) == 0, \"X\",\"_\")\n",
        "\n",
        "    \"\"\"Build Concentric Square Pattern\"\"\"\n",
        "    for x in range(0,10,2):\n",
        "        for y in range(19-2*x):\n",
        "            maze[x][x+y] = \"_\"\n",
        "            maze[x+y][x] = \"_\"\n",
        "            maze[19-1-x][x+y] = \"_\"\n",
        "            maze[x+y][19-1-x] = \"_\"\n",
        "        if x/2 % 2 == 0:\n",
        "            maze[19-1-x-1][9] = \"_\"\n",
        "        else:\n",
        "            maze[x+1][9] = \"_\"\n",
        "    maze[9][9] = \"X\"\n",
        "    maze[0][9] = \"X\"\n",
        "\n",
        "    return maze\n",
        "\n",
        "maze = generate_19x19()\n",
        "fig = plt.figure(figsize=(2,2))\n",
        "plt.imshow(np.where(maze == \"X\",0,1))\n",
        "plt.show()"
      ]
    },
    {
      "attachments": {},
      "cell_type": "markdown",
      "metadata": {},
      "source": [
        "Although my algorithm for solving for fewest number of steps is not perfect, it does allow for some testing to be done which will provide some insight to the difficulty of this maze:"
      ]
    },
    {
      "cell_type": "code",
      "execution_count": 11,
      "metadata": {},
      "outputs": [
        {
          "name": "stdout",
          "output_type": "stream",
          "text": [
            "Sequence: [3, 0, 0, 2, 0, 0, 3, 3, 3, 1, 1, 1, 1, 1, 1, 2, 2, 2, 1, 1, 3, 3, 3, 3, 3, 0, 0, 0, 0, 0, 0, 0, 0, 0, 0, 2, 2, 2, 2, 2, 0, 0, 3, 3, 3, 3, 3, 3, 3, 1, 1, 1, 1, 1, 1, 1, 1, 1, 1, 1, 1, 1, 1, 0, 0, 2, 0, 0, 3, 3, 3, 1, 1, 1, 1, 1, 1, 2, 2, 2, 1, 1, 3, 3, 3, 3, 3, 0, 0, 0, 0, 0, 0, 0, 0, 0, 0, 2, 2, 2, 2, 2, 0, 0, 3, 3, 3, 3, 3, 3, 3, 1, 1, 1, 1, 1, 1, 1, 1, 1, 1, 1, 1, 1, 1, 3, 3, 3, 1, 1, 3, 3, 3, 3, 3, 0, 0, 0, 0, 0, 0, 0, 0, 0, 0, 2, 2, 2, 2, 2, 0, 0, 3, 3, 3, 3, 3, 3, 3, 1, 1, 1, 1, 1, 1, 1, 1, 1, 1, 1, 1, 1, 1, 2, 2, 2, 2, 2, 2, 2, 2, 1, 1, 1, 1, 1, 1, 1, 1, 1, 1, 1, 1, 1, 1, 1, 1, 1, 1, 3, 3, 3, 3, 3, 3, 3, 3, 3, 0, 0, 3, 3, 3, 3, 3, 3, 3, 1, 1, 2, 2, 2, 2, 2, 2, 2, 2, 2, 0, 0, 3, 3, 3, 3, 3, 3, 3, 3, 3]\n",
            "Steps: 239\n",
            "Expected Pos (y,x): (16, 16)\n",
            "Certainty Map: \n",
            "Yellow is 100% certainty, zero certainties that are not walls are increased to show contrast\n"
          ]
        },
        {
          "data": {
            "image/png": "[encoded data removed]",
            "text/plain": [
              "<Figure size 200x200 with 1 Axes>"
            ]
          },
          "metadata": {},
          "output_type": "display_data"
        },
        {
          "name": "stdout",
          "output_type": "stream",
          "text": [
            "Testing with agents:\n",
            "Agent 0 pos (y,x): 16 16\n",
            "Agent 1 pos (y,x): 16 16\n",
            "Agent 2 pos (y,x): 16 16\n",
            "Agent 3 pos (y,x): 16 16\n",
            "Agent 4 pos (y,x): 16 16\n"
          ]
        }
      ],
      "source": [
        "maze = generate_19x19()\n",
        "np.savetxt(\"longmaze.txt\",maze, delimiter=\"\", fmt=\"%s\") \n",
        "free_cells = np.count_nonzero(maze == \"_\")\n",
        "prob_maze = np.where(maze == \"_\", 1/free_cells, 0)\n",
        "min_sequence, min_maze, end_pos, min_sequence, min_steps = corners_algo(maze,prob_maze,free_cells)\n",
        "\n",
        "print(\"Sequence:\", min_sequence)\n",
        "print(\"Steps:\",min_steps)\n",
        "print(\"Expected Pos (y,x):\", end_pos)\n",
        "print(\"Certainty Map: \\nYellow is 100% certainty, zero certainties that are not walls are increased to show contrast\")\n",
        "fig = plt.figure(figsize=(2, 2))\n",
        "plt.imshow(np.where(maze != ['X'], np.where(min_maze == 0, (min_maze) + ((1/2)),min_maze) , 0))\n",
        "plt.show()\n",
        "\n",
        "\"\"\"Create 5 Agents Randomly in the Maze and force them to follow sequence\"\"\"\n",
        "print(\"Testing with agents:\")\n",
        "#Prints the resulting position\n",
        "for itr in range(5):\n",
        "  agent_obj = agent(maze)\n",
        "  action = [agent_obj.up, agent_obj.down, agent_obj.left, agent_obj.right]\n",
        "  for x in min_sequence:\n",
        "    action[x]()\n",
        "  print(\"Agent\", itr, \"pos (y,x):\", agent_obj.y, agent_obj.x)"
      ]
    },
    {
      "attachments": {},
      "cell_type": "markdown",
      "metadata": {},
      "source": [
        "Based on the results, it appears that the concentric square schematic take significantly more steps than the initially provided one at 239 versus 162. Since each square layer is a different size and the layers are only connected by a single point, this means that a series of moves that provides a corner of high probability for a smaller layer will not be sufficient for a larger layer, meaning more steps will need to be taken. Additionally the inclusion of exits on opposing sides of consecutive squares means that more steps must be taken to combine probabilities between squares. Lastly the inclusion of the box at the top center is to reduce the connectedness of the outer layer, forcing more steps to be taken for combinations to occur.\n",
        "\n",
        "When compared with other basic patterns that feature long halls with few connections such as spirals or zig zags, the concentric circle requires many more steps, suggesting it is a relatively difficult schematic. As can be seen below, these two other schematics take about 180 steps each. \n",
        "\n",
        "However, this is all based on my minimum sequence algorithm so it is possible that some solution exists in much fewer than 239 steps.\n"
      ]
    },
    {
      "cell_type": "code",
      "execution_count": 12,
      "metadata": {},
      "outputs": [
        {
          "name": "stdout",
          "output_type": "stream",
          "text": [
            "Spiral.txt\n",
            "Sequence: [0, 0, 2, 2, 1, 1, 1, 1, 3, 3, 3, 3, 0, 0, 0, 0, 0, 0, 2, 2, 2, 2, 2, 2, 1, 1, 1, 1, 1, 1, 1, 1, 3, 3, 3, 3, 3, 3, 3, 3, 0, 0, 0, 0, 0, 0, 0, 0, 0, 0, 2, 2, 2, 2, 2, 2, 2, 2, 2, 2, 1, 1, 1, 1, 1, 1, 1, 1, 1, 1, 1, 1, 3, 3, 3, 3, 3, 3, 3, 3, 3, 3, 3, 3, 0, 0, 0, 0, 0, 0, 0, 0, 0, 0, 0, 0, 0, 0, 2, 2, 2, 2, 2, 2, 2, 2, 2, 2, 2, 2, 2, 2, 1, 1, 1, 1, 1, 1, 1, 1, 1, 1, 1, 1, 1, 1, 1, 1, 3, 3, 3, 3, 3, 3, 3, 3, 3, 3, 3, 3, 3, 3, 3, 3, 0, 0, 0, 0, 0, 0, 0, 0, 0, 0, 0, 0, 0, 0, 0, 0, 0, 0, 3, 3, 3, 3, 3, 3, 3, 3, 3, 3, 3, 3, 3, 3, 3, 3, 3, 3]\n",
            "Steps: 180\n",
            "Expected Pos (y,x): (0, 18)\n",
            "Certainty Map: \n",
            "Yellow is 100% certainty, zero certainties that are not walls are increased to show contrast\n"
          ]
        },
        {
          "data": {
            "image/png": "[encoded data removed]",
            "text/plain": [
              "<Figure size 200x200 with 1 Axes>"
            ]
          },
          "metadata": {},
          "output_type": "display_data"
        },
        {
          "name": "stdout",
          "output_type": "stream",
          "text": [
            "Zig Zags.txt\n",
            "Sequence: [2, 2, 2, 2, 2, 2, 2, 2, 2, 2, 2, 2, 2, 2, 2, 2, 2, 2, 1, 1, 3, 3, 3, 3, 3, 3, 3, 3, 3, 3, 3, 3, 3, 3, 3, 3, 3, 3, 1, 1, 2, 2, 2, 2, 2, 2, 2, 2, 2, 2, 2, 2, 2, 2, 2, 2, 2, 2, 1, 1, 3, 3, 3, 3, 3, 3, 3, 3, 3, 3, 3, 3, 3, 3, 3, 3, 3, 3, 1, 1, 2, 2, 2, 2, 2, 2, 2, 2, 2, 2, 2, 2, 2, 2, 2, 2, 2, 2, 1, 1, 3, 3, 3, 3, 3, 3, 3, 3, 3, 3, 3, 3, 3, 3, 3, 3, 3, 3, 1, 1, 2, 2, 2, 2, 2, 2, 2, 2, 2, 2, 2, 2, 2, 2, 2, 2, 2, 2, 1, 1, 3, 3, 3, 3, 3, 3, 3, 3, 3, 3, 3, 3, 3, 3, 3, 3, 3, 3, 1, 1, 2, 2, 2, 2, 2, 2, 2, 2, 2, 2, 2, 2, 2, 2, 2, 2, 2, 2, 0, 0]\n",
            "Steps: 180\n",
            "Expected Pos (y,x): (16, 0)\n",
            "Certainty Map: \n",
            "Yellow is 100% certainty, zero certainties that are not walls are increased to show contrast\n"
          ]
        },
        {
          "data": {
            "image/png": "[encoded data removed]",
            "text/plain": [
              "<Figure size 200x200 with 1 Axes>"
            ]
          },
          "metadata": {},
          "output_type": "display_data"
        }
      ],
      "source": [
        "print(\"Spiral.txt\")\n",
        "maze_file_name = \"spiral.txt\"\n",
        "maze, prob_maze, free_cells = read_maze(maze_file_name)\n",
        "\n",
        "min_sequence, min_maze, end_pos, min_sequence, min_steps = corners_algo(maze,prob_maze,free_cells)\n",
        "\n",
        "print(\"Sequence:\", min_sequence)\n",
        "print(\"Steps:\",min_steps)\n",
        "print(\"Expected Pos (y,x):\", end_pos)\n",
        "print(\"Certainty Map: \\nYellow is 100% certainty, zero certainties that are not walls are increased to show contrast\")\n",
        "fig = plt.figure(figsize=(2, 2))\n",
        "plt.imshow(np.where(maze != ['X'], np.where(min_maze == 0, (min_maze) + ((1/2)),min_maze) , 0))\n",
        "plt.show()\n",
        "\n",
        "print(\"Zig Zags.txt\")\n",
        "maze_file_name = \"zigzags.txt\"\n",
        "maze, prob_maze, free_cells = read_maze(maze_file_name)\n",
        "\n",
        "min_sequence, min_maze, end_pos, min_sequence, min_steps = corners_algo(maze,prob_maze,free_cells)\n",
        "\n",
        "print(\"Sequence:\", min_sequence)\n",
        "print(\"Steps:\",min_steps)\n",
        "print(\"Expected Pos (y,x):\", end_pos)\n",
        "print(\"Certainty Map: \\nYellow is 100% certainty, zero certainties that are not walls are increased to show contrast\")\n",
        "fig = plt.figure(figsize=(2, 2))\n",
        "plt.imshow(np.where(maze != ['X'], np.where(min_maze == 0, (min_maze) + ((1/2)),min_maze) , 0))\n",
        "plt.show()"
      ]
    }
  ],
  "metadata": {
    "colab": {
      "provenance": []
    },
    "kernelspec": {
      "display_name": "Python 3",
      "language": "python",
      "name": "python3"
    },
    "language_info": {
      "codemirror_mode": {
        "name": "ipython",
        "version": 3
      },
      "file_extension": ".py",
      "mimetype": "text/x-python",
      "name": "python",
      "nbconvert_exporter": "python",
      "pygments_lexer": "ipython3",
      "version": "3.10.7"
    },
    "vscode": {
      "interpreter": {
        "hash": "aee8b7b246df8f9039afb4144a1f6fd8d2ca17a180786b69acc140d282b71a49"
      }
    }
  },
  "nbformat": 4,
  "nbformat_minor": 0
}
